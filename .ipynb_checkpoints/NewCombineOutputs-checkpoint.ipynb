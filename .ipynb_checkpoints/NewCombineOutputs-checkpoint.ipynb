{
 "cells": [
  {
   "cell_type": "code",
   "execution_count": 8,
   "id": "6e021569",
   "metadata": {},
   "outputs": [],
   "source": [
    "import os\n",
    "score_files = os.listdir(\"C:/Users/jacco/Documents/GitHub/Thesis/newOutputs/scores2/\")\n",
    "\n",
    "# for structure in os.listdir(\"C:/Users/jacco/Documents/GitHub/Thesis/newOutputs/structures2/\"):\n",
    "#     split = structure.split(\"_\")\n",
    "#     if split[0]+\"_\"+split[1]+\".csv\" not in score_files:\n",
    "#         os.remove(\"C:/Users/jacco/Documents/GitHub/Thesis/newOutputs/structures2/\"+structure)\n",
    "        \n",
    "for structure in os.listdir(\"C:/Users/jacco/Documents/GitHub/Thesis/newOutputs/groundtruths2/\"):\n",
    "    if strucutre[:-7]+\".csv\" not in score_files:\n",
    "        print(structure[:-7])\n",
    "        break\n",
    "#         os.remove(\"C:/Users/jacco/Documents/GitHub/Thesis/newOutputs/groundtruths2/\"+structure)"
   ]
  },
  {
   "cell_type": "code",
   "execution_count": null,
   "id": "05b4aa09",
   "metadata": {},
   "outputs": [],
   "source": []
  }
 ],
 "metadata": {
  "kernelspec": {
   "display_name": "Python 3 (ipykernel)",
   "language": "python",
   "name": "python3"
  },
  "language_info": {
   "codemirror_mode": {
    "name": "ipython",
    "version": 3
   },
   "file_extension": ".py",
   "mimetype": "text/x-python",
   "name": "python",
   "nbconvert_exporter": "python",
   "pygments_lexer": "ipython3",
   "version": "3.9.16"
  }
 },
 "nbformat": 4,
 "nbformat_minor": 5
}
