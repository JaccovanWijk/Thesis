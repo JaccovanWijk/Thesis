{
 "cells": [
  {
   "cell_type": "code",
   "execution_count": 1,
   "id": "7739ab23",
   "metadata": {},
   "outputs": [],
   "source": [
    "import pyAgrum as gum\n",
    "import pyAgrum.lib.notebook as gnb\n",
    "import pyAgrum.lib.bn_vs_bn as bnvsbn\n",
    "from pyAgrum.lib import image"
   ]
  },
  {
   "cell_type": "code",
   "execution_count": 2,
   "id": "c92a319d",
   "metadata": {},
   "outputs": [],
   "source": [
    "colors = {'Smoking': 0.1, 'LungDisease': 0.2, 'Cold': 0.5, 'Cough': 0.95} #'d': 0.95, "
   ]
  },
  {
   "cell_type": "code",
   "execution_count": 3,
   "id": "37e6fcd5",
   "metadata": {},
   "outputs": [
    {
     "data": {
      "image/svg+xml": [
       "<svg xmlns=\"http://www.w3.org/2000/svg\" xmlns:xlink=\"http://www.w3.org/1999/xlink\" width=\"194pt\" height=\"188pt\" viewBox=\"0.00 0.00 194.49 188.00\">\n",
       "<g id=\"graph0\" class=\"graph\" transform=\"scale(1 1) rotate(0) translate(4 184)\">\n",
       "<title>G</title>\n",
       "<!-- LungDisease -->\n",
       "<g id=\"node1\" class=\"node\">\n",
       "<title>LungDisease</title>\n",
       "<g id=\"a_node1\"><a xlink:title=\"(1) LungDisease\">\n",
       "<ellipse fill=\"#404040\" stroke=\"black\" cx=\"129.95\" cy=\"-90\" rx=\"56.59\" ry=\"18\"/>\n",
       "<text text-anchor=\"middle\" x=\"129.95\" y=\"-86.3\" font-family=\"Times New Roman,serif\" font-size=\"14.00\" fill=\"white\">LungDisease</text>\n",
       "</a>\n",
       "</g>\n",
       "</g>\n",
       "<!-- Cough -->\n",
       "<g id=\"node4\" class=\"node\">\n",
       "<title>Cough</title>\n",
       "<g id=\"a_node4\"><a xlink:title=\"(2) Cough\">\n",
       "<ellipse fill=\"#404040\" stroke=\"black\" cx=\"78.95\" cy=\"-18\" rx=\"34.39\" ry=\"18\"/>\n",
       "<text text-anchor=\"middle\" x=\"78.95\" y=\"-14.3\" font-family=\"Times New Roman,serif\" font-size=\"14.00\" fill=\"white\">Cough</text>\n",
       "</a>\n",
       "</g>\n",
       "</g>\n",
       "<!-- LungDisease&#45;&gt;Cough -->\n",
       "<g id=\"edge3\" class=\"edge\">\n",
       "<title>LungDisease-&gt;Cough</title>\n",
       "<g id=\"a_edge3\"><a xlink:title=\"1 → 2\">\n",
       "<path fill=\"none\" stroke=\"#4a4a4a\" d=\"M117.86,-72.41C111.48,-63.66 103.54,-52.75 96.49,-43.08\"/>\n",
       "<polygon fill=\"#4a4a4a\" stroke=\"#4a4a4a\" points=\"99.31,-41.01 90.6,-34.99 93.66,-45.13 99.31,-41.01\"/>\n",
       "</a>\n",
       "</g>\n",
       "</g>\n",
       "<!-- Cold -->\n",
       "<g id=\"node2\" class=\"node\">\n",
       "<title>Cold</title>\n",
       "<g id=\"a_node2\"><a xlink:title=\"(3) Cold\">\n",
       "<ellipse fill=\"#404040\" stroke=\"black\" cx=\"27.95\" cy=\"-90\" rx=\"27.9\" ry=\"18\"/>\n",
       "<text text-anchor=\"middle\" x=\"27.95\" y=\"-86.3\" font-family=\"Times New Roman,serif\" font-size=\"14.00\" fill=\"white\">Cold</text>\n",
       "</a>\n",
       "</g>\n",
       "</g>\n",
       "<!-- Cold&#45;&gt;Cough -->\n",
       "<g id=\"edge2\" class=\"edge\">\n",
       "<title>Cold-&gt;Cough</title>\n",
       "<g id=\"a_edge2\"><a xlink:title=\"3 → 2\">\n",
       "<path fill=\"none\" stroke=\"#4a4a4a\" d=\"M39.27,-73.46C45.71,-64.62 53.93,-53.34 61.21,-43.34\"/>\n",
       "<polygon fill=\"#4a4a4a\" stroke=\"#4a4a4a\" points=\"64.25,-45.12 67.31,-34.98 58.59,-41 64.25,-45.12\"/>\n",
       "</a>\n",
       "</g>\n",
       "</g>\n",
       "<!-- Smoking -->\n",
       "<g id=\"node3\" class=\"node\">\n",
       "<title>Smoking</title>\n",
       "<g id=\"a_node3\"><a xlink:title=\"(0) Smoking\">\n",
       "<ellipse fill=\"#404040\" stroke=\"black\" cx=\"129.95\" cy=\"-162\" rx=\"42.79\" ry=\"18\"/>\n",
       "<text text-anchor=\"middle\" x=\"129.95\" y=\"-158.3\" font-family=\"Times New Roman,serif\" font-size=\"14.00\" fill=\"white\">Smoking</text>\n",
       "</a>\n",
       "</g>\n",
       "</g>\n",
       "<!-- Smoking&#45;&gt;LungDisease -->\n",
       "<g id=\"edge1\" class=\"edge\">\n",
       "<title>Smoking-&gt;LungDisease</title>\n",
       "<g id=\"a_edge1\"><a xlink:title=\"0 → 1\">\n",
       "<path fill=\"none\" stroke=\"#4a4a4a\" d=\"M129.95,-143.7C129.95,-135.98 129.95,-126.71 129.95,-118.11\"/>\n",
       "<polygon fill=\"#4a4a4a\" stroke=\"#4a4a4a\" points=\"133.45,-118.1 129.95,-108.1 126.45,-118.1 133.45,-118.1\"/>\n",
       "</a>\n",
       "</g>\n",
       "</g>\n",
       "</g>\n",
       "</svg>"
      ],
      "text/plain": [
       "<IPython.core.display.SVG object>"
      ]
     },
     "metadata": {},
     "output_type": "display_data"
    }
   ],
   "source": [
    "bn = gum.fastBN(\"Smoking->LungDisease->Cough<-Cold\")\n",
    "\n",
    "bn.cpt(\"Smoking\")[:]=[0.6,0.4]\n",
    "bn.cpt(\"Cold\")[:]=[0.7,0.3]\n",
    "bn.cpt(\"LungDisease\")[{\"Smoking\":0}]=[0.9,0.1]\n",
    "bn.cpt(\"LungDisease\")[{\"Smoking\":1}]=[0.7,0.3]\n",
    "bn.cpt(\"Cough\")[{\"LungDisease\": 0, \"Cold\": 0}] = [0.9, 0.1]\n",
    "bn.cpt(\"Cough\")[{\"LungDisease\": 1, \"Cold\": 0}] = [0.8, 0.2]\n",
    "bn.cpt(\"Cough\")[{\"LungDisease\": 0, \"Cold\": 1}] = [0.7, 0.3]\n",
    "bn.cpt(\"Cough\")[{\"LungDisease\": 1, \"Cold\": 1}] = [0.3, 0.7]\n",
    "\n",
    "gnb.show(bn)\n",
    "image.export(bn,\"Figs/cough_bn.png\", nodeColor=colors)"
   ]
  },
  {
   "cell_type": "code",
   "execution_count": 5,
   "id": "56e39f1e",
   "metadata": {},
   "outputs": [
    {
     "data": {
      "text/html": [
       "\n",
       "      <style>\n",
       "      .floating-box {\n",
       "      display: inline-block;\n",
       "      margin: 7px;\n",
       "      padding : 3px;\n",
       "      border: 0px solid transparent;  \n",
       "      valign:middle;\n",
       "      background-color: transparent;\n",
       "      }\n",
       "      </style>\n",
       "      <div class=\"floating-box\"><table style=\"border:1px solid black;\">\n",
       "<tr style='border:1px solid black;color:black;background-color:#808080'>\n",
       "      <th colspan='2'><center>Smoking</center></th></tr>\n",
       "<tr><th style='border:1px solid black;border-bottom-style: double;color:black;background-color:#BBBBBB'>\n",
       "      <center>0</center></th><th style='border:1px solid black;border-bottom-style: double;color:black;background-color:#BBBBBB'>\n",
       "      <center>1</center></th></tr>\n",
       "<tr><td style='color:black;background-color:#b2cb64;text-align:right;'>0.6000</td><td style='color:black;background-color:#cbb264;text-align:right;'>0.4000</td></tr>\n",
       "</table></div><div class=\"floating-box\"><table style=\"border:1px solid black;\">\n",
       "<tr><th colspan='1'></th>\n",
       "      <th colspan='2' style='border:1px solid black;color:black;background-color:#808080;'><center>LungDisease</center>\n",
       "      </th></tr>\n",
       "<tr><th style='border:1px solid black;color:black;background-color:#808080'><center>Smoking</center></th><th style='border:1px solid black;border-bottom-style: double;color:black;background-color:#BBBBBB'>\n",
       "      <center>0</center></th><th style='border:1px solid black;border-bottom-style: double;color:black;background-color:#BBBBBB'>\n",
       "      <center>1</center></th></tr>\n",
       "<tr><th style='border:1px solid black;color:black;background-color:#BBBBBB'><center>0</center></th><td style='color:black;background-color:#8bf264;text-align:right;'>0.9000</td><td style='color:black;background-color:#f28b64;text-align:right;'>0.1000</td></tr>\n",
       "<tr><th style='border:1px solid black;color:black;background-color:#BBBBBB'><center>1</center></th><td style='color:black;background-color:#a5d864;text-align:right;'>0.7000</td><td style='color:black;background-color:#d8a564;text-align:right;'>0.3000</td></tr>\n",
       "</table></div><div class=\"floating-box\"><table style=\"border:1px solid black;\">\n",
       "<tr style='border:1px solid black;color:black;background-color:#808080'>\n",
       "      <th colspan='2'><center>Cold</center></th></tr>\n",
       "<tr><th style='border:1px solid black;border-bottom-style: double;color:black;background-color:#BBBBBB'>\n",
       "      <center>0</center></th><th style='border:1px solid black;border-bottom-style: double;color:black;background-color:#BBBBBB'>\n",
       "      <center>1</center></th></tr>\n",
       "<tr><td style='color:black;background-color:#a5d864;text-align:right;'>0.7000</td><td style='color:black;background-color:#d8a564;text-align:right;'>0.3000</td></tr>\n",
       "</table></div><div class=\"floating-box\"><table style=\"border:1px solid black;\">\n",
       "<tr><th colspan='2'></th>\n",
       "      <th colspan='2' style='border:1px solid black;color:black;background-color:#808080;'><center>Cough</center>\n",
       "      </th></tr>\n",
       "<tr><th style='border:1px solid black;color:black;background-color:#808080'><center>Cold</center></th><th style='border:1px solid black;color:black;background-color:#808080'><center>LungDisease</center></th><th style='border:1px solid black;border-bottom-style: double;color:black;background-color:#BBBBBB'>\n",
       "      <center>0</center></th><th style='border:1px solid black;border-bottom-style: double;color:black;background-color:#BBBBBB'>\n",
       "      <center>1</center></th></tr>\n",
       "<tr><th style='border:1px solid black;color:black;background-color:#BBBBBB;' rowspan = '2'>\n",
       "            <center>0</center></th><th style='border:1px solid black;color:black;background-color:#BBBBBB'><center>0</center></th><td style='color:black;background-color:#8bf264;text-align:right;'>0.9000</td><td style='color:black;background-color:#f28b64;text-align:right;'>0.1000</td></tr>\n",
       "<tr><th style='border:1px solid black;color:black;background-color:#BBBBBB'><center>1</center></th><td style='color:black;background-color:#98e564;text-align:right;'>0.8000</td><td style='color:black;background-color:#e59864;text-align:right;'>0.2000</td></tr>\n",
       "<tr><th style='border:1px solid black;color:black;background-color:#BBBBBB;' rowspan = '2'>\n",
       "            <center>1</center></th><th style='border:1px solid black;color:black;background-color:#BBBBBB'><center>0</center></th><td style='color:black;background-color:#a5d864;text-align:right;'>0.7000</td><td style='color:black;background-color:#d8a564;text-align:right;'>0.3000</td></tr>\n",
       "<tr><th style='border:1px solid black;color:black;background-color:#BBBBBB'><center>1</center></th><td style='color:black;background-color:#d8a564;text-align:right;'>0.3000</td><td style='color:black;background-color:#a5d864;text-align:right;'>0.7000</td></tr>\n",
       "</table></div>"
      ],
      "text/plain": [
       "<IPython.core.display.HTML object>"
      ]
     },
     "metadata": {},
     "output_type": "display_data"
    }
   ],
   "source": [
    "gnb.flow.row(bn.cpt(\"Smoking\"),bn.cpt(\"LungDisease\"),bn.cpt(\"Cold\"),bn.cpt(\"Cough\"))"
   ]
  },
  {
   "cell_type": "code",
   "execution_count": 16,
   "id": "3ad813fc",
   "metadata": {},
   "outputs": [],
   "source": [
    "all_colors = {'Smoking.0': 0.1, 'LungDisease.0': 0.2, 'Cold.0': 0.5, 'Cough.0': 0.95,'Smoking.1': 0.1, 'LungDisease.1': 0.2, 'Cold.1': 0.5, 'Cough.1': 0.95}"
   ]
  },
  {
   "cell_type": "code",
   "execution_count": 18,
   "id": "669295f2",
   "metadata": {},
   "outputs": [
    {
     "data": {
      "image/svg+xml": [
       "<svg xmlns=\"http://www.w3.org/2000/svg\" xmlns:xlink=\"http://www.w3.org/1999/xlink\" width=\"340pt\" height=\"260pt\" viewBox=\"0.00 0.00 340.49 260.00\">\n",
       "<g id=\"graph0\" class=\"graph\" transform=\"scale(1 1) rotate(0) translate(4 256)\">\n",
       "<title>G</title>\n",
       "<!-- Cold.1 -->\n",
       "<g id=\"node1\" class=\"node\">\n",
       "<title>Cold.1</title>\n",
       "<g id=\"a_node1\"><a xlink:title=\"(7) Cold.1\">\n",
       "<ellipse fill=\"#404040\" stroke=\"black\" cx=\"298.05\" cy=\"-90\" rx=\"34.39\" ry=\"18\"/>\n",
       "<text text-anchor=\"middle\" x=\"298.05\" y=\"-86.3\" font-family=\"Times New Roman,serif\" font-size=\"14.00\" fill=\"white\">Cold.1</text>\n",
       "</a>\n",
       "</g>\n",
       "</g>\n",
       "<!-- Cough.1 -->\n",
       "<g id=\"node3\" class=\"node\">\n",
       "<title>Cough.1</title>\n",
       "<g id=\"a_node3\"><a xlink:title=\"(6) Cough.1\">\n",
       "<ellipse fill=\"#404040\" stroke=\"black\" cx=\"190.05\" cy=\"-18\" rx=\"40.89\" ry=\"18\"/>\n",
       "<text text-anchor=\"middle\" x=\"190.05\" y=\"-14.3\" font-family=\"Times New Roman,serif\" font-size=\"14.00\" fill=\"white\">Cough.1</text>\n",
       "</a>\n",
       "</g>\n",
       "</g>\n",
       "<!-- Cold.1&#45;&gt;Cough.1 -->\n",
       "<g id=\"edge7\" class=\"edge\">\n",
       "<title>Cold.1-&gt;Cough.1</title>\n",
       "<g id=\"a_edge7\"><a xlink:title=\"7 → 6\">\n",
       "<path fill=\"none\" stroke=\"#4a4a4a\" d=\"M277.22,-75.5C261.21,-65.12 238.84,-50.63 220.77,-38.91\"/>\n",
       "<polygon fill=\"#4a4a4a\" stroke=\"#4a4a4a\" points=\"222.59,-35.92 212.29,-33.42 218.78,-41.8 222.59,-35.92\"/>\n",
       "</a>\n",
       "</g>\n",
       "</g>\n",
       "<!-- Cough.0 -->\n",
       "<g id=\"node2\" class=\"node\">\n",
       "<title>Cough.0</title>\n",
       "<g id=\"a_node2\"><a xlink:title=\"(2) Cough.0\">\n",
       "<ellipse fill=\"#404040\" stroke=\"black\" cx=\"205.05\" cy=\"-90\" rx=\"40.89\" ry=\"18\"/>\n",
       "<text text-anchor=\"middle\" x=\"205.05\" y=\"-86.3\" font-family=\"Times New Roman,serif\" font-size=\"14.00\" fill=\"white\">Cough.0</text>\n",
       "</a>\n",
       "</g>\n",
       "</g>\n",
       "<!-- Cold.0 -->\n",
       "<g id=\"node4\" class=\"node\">\n",
       "<title>Cold.0</title>\n",
       "<g id=\"a_node4\"><a xlink:title=\"(3) Cold.0\">\n",
       "<ellipse fill=\"#404040\" stroke=\"black\" cx=\"298.05\" cy=\"-162\" rx=\"34.39\" ry=\"18\"/>\n",
       "<text text-anchor=\"middle\" x=\"298.05\" y=\"-158.3\" font-family=\"Times New Roman,serif\" font-size=\"14.00\" fill=\"white\">Cold.0</text>\n",
       "</a>\n",
       "</g>\n",
       "</g>\n",
       "<!-- Cold.0&#45;&gt;Cold.1 -->\n",
       "<g id=\"edge5\" class=\"edge\">\n",
       "<title>Cold.0-&gt;Cold.1</title>\n",
       "<g id=\"a_edge5\"><a xlink:title=\"3 → 7\">\n",
       "<path fill=\"none\" stroke=\"#4a4a4a\" d=\"M298.05,-143.7C298.05,-135.98 298.05,-126.71 298.05,-118.11\"/>\n",
       "<polygon fill=\"#4a4a4a\" stroke=\"#4a4a4a\" points=\"301.55,-118.1 298.05,-108.1 294.55,-118.1 301.55,-118.1\"/>\n",
       "</a>\n",
       "</g>\n",
       "</g>\n",
       "<!-- Cold.0&#45;&gt;Cough.0 -->\n",
       "<g id=\"edge9\" class=\"edge\">\n",
       "<title>Cold.0-&gt;Cough.0</title>\n",
       "<g id=\"a_edge9\"><a xlink:title=\"3 → 2\">\n",
       "<path fill=\"none\" stroke=\"#4a4a4a\" d=\"M279.23,-146.83C266,-136.88 248.09,-123.4 233.18,-112.17\"/>\n",
       "<polygon fill=\"#4a4a4a\" stroke=\"#4a4a4a\" points=\"234.89,-109.09 224.8,-105.87 230.69,-114.68 234.89,-109.09\"/>\n",
       "</a>\n",
       "</g>\n",
       "</g>\n",
       "<!-- Smoking.1 -->\n",
       "<g id=\"node5\" class=\"node\">\n",
       "<title>Smoking.1</title>\n",
       "<g id=\"a_node5\"><a xlink:title=\"(4) Smoking.1\">\n",
       "<ellipse fill=\"#404040\" stroke=\"black\" cx=\"50.05\" cy=\"-162\" rx=\"50.09\" ry=\"18\"/>\n",
       "<text text-anchor=\"middle\" x=\"50.05\" y=\"-158.3\" font-family=\"Times New Roman,serif\" font-size=\"14.00\" fill=\"white\">Smoking.1</text>\n",
       "</a>\n",
       "</g>\n",
       "</g>\n",
       "<!-- LungDisease.1 -->\n",
       "<g id=\"node6\" class=\"node\">\n",
       "<title>LungDisease.1</title>\n",
       "<g id=\"a_node6\"><a xlink:title=\"(5) LungDisease.1\">\n",
       "<ellipse fill=\"#404040\" stroke=\"black\" cx=\"82.05\" cy=\"-90\" rx=\"63.89\" ry=\"18\"/>\n",
       "<text text-anchor=\"middle\" x=\"82.05\" y=\"-86.3\" font-family=\"Times New Roman,serif\" font-size=\"14.00\" fill=\"white\">LungDisease.1</text>\n",
       "</a>\n",
       "</g>\n",
       "</g>\n",
       "<!-- Smoking.1&#45;&gt;LungDisease.1 -->\n",
       "<g id=\"edge6\" class=\"edge\">\n",
       "<title>Smoking.1-&gt;LungDisease.1</title>\n",
       "<g id=\"a_edge6\"><a xlink:title=\"4 → 5\">\n",
       "<path fill=\"none\" stroke=\"#4a4a4a\" d=\"M57.79,-144.05C61.43,-136.09 65.86,-126.41 69.93,-117.51\"/>\n",
       "<polygon fill=\"#4a4a4a\" stroke=\"#4a4a4a\" points=\"73.17,-118.83 74.15,-108.28 66.81,-115.91 73.17,-118.83\"/>\n",
       "</a>\n",
       "</g>\n",
       "</g>\n",
       "<!-- LungDisease.1&#45;&gt;Cough.1 -->\n",
       "<g id=\"edge8\" class=\"edge\">\n",
       "<title>LungDisease.1-&gt;Cough.1</title>\n",
       "<g id=\"a_edge8\"><a xlink:title=\"5 → 6\">\n",
       "<path fill=\"none\" stroke=\"#4a4a4a\" d=\"M106.28,-73.29C122.06,-63.06 142.78,-49.64 159.66,-38.69\"/>\n",
       "<polygon fill=\"#4a4a4a\" stroke=\"#4a4a4a\" points=\"161.6,-41.61 168.09,-33.23 157.8,-35.73 161.6,-41.61\"/>\n",
       "</a>\n",
       "</g>\n",
       "</g>\n",
       "<!-- Smoking.0 -->\n",
       "<g id=\"node7\" class=\"node\">\n",
       "<title>Smoking.0</title>\n",
       "<g id=\"a_node7\"><a xlink:title=\"(0) Smoking.0\">\n",
       "<ellipse fill=\"#404040\" stroke=\"black\" cx=\"116.05\" cy=\"-234\" rx=\"50.09\" ry=\"18\"/>\n",
       "<text text-anchor=\"middle\" x=\"116.05\" y=\"-230.3\" font-family=\"Times New Roman,serif\" font-size=\"14.00\" fill=\"white\">Smoking.0</text>\n",
       "</a>\n",
       "</g>\n",
       "</g>\n",
       "<!-- Smoking.0&#45;&gt;Smoking.1 -->\n",
       "<g id=\"edge3\" class=\"edge\">\n",
       "<title>Smoking.0-&gt;Smoking.1</title>\n",
       "<g id=\"a_edge3\"><a xlink:title=\"0 → 4\">\n",
       "<path fill=\"none\" stroke=\"#4a4a4a\" d=\"M100.74,-216.76C92.24,-207.75 81.52,-196.39 72.13,-186.43\"/>\n",
       "<polygon fill=\"#4a4a4a\" stroke=\"#4a4a4a\" points=\"74.68,-184.02 65.27,-179.15 69.58,-188.82 74.68,-184.02\"/>\n",
       "</a>\n",
       "</g>\n",
       "</g>\n",
       "<!-- LungDisease.0 -->\n",
       "<g id=\"node8\" class=\"node\">\n",
       "<title>LungDisease.0</title>\n",
       "<g id=\"a_node8\"><a xlink:title=\"(1) LungDisease.0\">\n",
       "<ellipse fill=\"#404040\" stroke=\"black\" cx=\"182.05\" cy=\"-162\" rx=\"63.89\" ry=\"18\"/>\n",
       "<text text-anchor=\"middle\" x=\"182.05\" y=\"-158.3\" font-family=\"Times New Roman,serif\" font-size=\"14.00\" fill=\"white\">LungDisease.0</text>\n",
       "</a>\n",
       "</g>\n",
       "</g>\n",
       "<!-- Smoking.0&#45;&gt;LungDisease.0 -->\n",
       "<g id=\"edge1\" class=\"edge\">\n",
       "<title>Smoking.0-&gt;LungDisease.0</title>\n",
       "<g id=\"a_edge1\"><a xlink:title=\"0 → 1\">\n",
       "<path fill=\"none\" stroke=\"#4a4a4a\" d=\"M131.35,-216.76C139.65,-207.97 150.06,-196.93 159.28,-187.14\"/>\n",
       "<polygon fill=\"#4a4a4a\" stroke=\"#4a4a4a\" points=\"162.05,-189.31 166.36,-179.63 156.96,-184.51 162.05,-189.31\"/>\n",
       "</a>\n",
       "</g>\n",
       "</g>\n",
       "<!-- LungDisease.0&#45;&gt;Cough.0 -->\n",
       "<g id=\"edge2\" class=\"edge\">\n",
       "<title>LungDisease.0-&gt;Cough.0</title>\n",
       "<g id=\"a_edge2\"><a xlink:title=\"1 → 2\">\n",
       "<path fill=\"none\" stroke=\"#4a4a4a\" d=\"M187.61,-144.05C190.2,-136.18 193.34,-126.62 196.24,-117.79\"/>\n",
       "<polygon fill=\"#4a4a4a\" stroke=\"#4a4a4a\" points=\"199.57,-118.87 199.37,-108.28 192.92,-116.68 199.57,-118.87\"/>\n",
       "</a>\n",
       "</g>\n",
       "</g>\n",
       "<!-- LungDisease.0&#45;&gt;LungDisease.1 -->\n",
       "<g id=\"edge4\" class=\"edge\">\n",
       "<title>LungDisease.0-&gt;LungDisease.1</title>\n",
       "<g id=\"a_edge4\"><a xlink:title=\"1 → 5\">\n",
       "<path fill=\"none\" stroke=\"#4a4a4a\" d=\"M159.35,-145.12C145.77,-135.61 128.31,-123.38 113.42,-112.96\"/>\n",
       "<polygon fill=\"#4a4a4a\" stroke=\"#4a4a4a\" points=\"115.19,-109.93 104.99,-107.06 111.18,-115.67 115.19,-109.93\"/>\n",
       "</a>\n",
       "</g>\n",
       "</g>\n",
       "</g>\n",
       "</svg>"
      ],
      "text/plain": [
       "<IPython.core.display.SVG object>"
      ]
     },
     "metadata": {},
     "output_type": "display_data"
    }
   ],
   "source": [
    "dbn = gum.fastBN(\"Smoking.0->LungDisease.0->Cough.0<-Cold.0;Smoking.1->LungDisease.1->Cough.1<-Cold.1;Smoking.0->Smoking.1;LungDisease.0->LungDisease.1;Cold.0->Cold.1\")\n",
    "\n",
    "dbn.cpt(\"Smoking.0\")[:]=[0.6,0.4]\n",
    "dbn.cpt(\"Cold.0\")[:]=[0.7,0.3]\n",
    "dbn.cpt(\"LungDisease.0\")[{\"Smoking.0\":0}]=[0.9,0.1]\n",
    "dbn.cpt(\"LungDisease.0\")[{\"Smoking.0\":1}]=[0.7,0.3]\n",
    "dbn.cpt(\"Cough.0\")[{\"LungDisease.0\": 0, \"Cold.0\": 0}] = [0.9, 0.1]\n",
    "dbn.cpt(\"Cough.0\")[{\"LungDisease.0\": 1, \"Cold.0\": 0}] = [0.8, 0.2]\n",
    "dbn.cpt(\"Cough.0\")[{\"LungDisease.0\": 0, \"Cold.0\": 1}] = [0.7, 0.3]\n",
    "dbn.cpt(\"Cough.0\")[{\"LungDisease.0\": 1, \"Cold.0\": 1}] = [0.3, 0.7]\n",
    "\n",
    "gnb.show(dbn)\n",
    "image.export(dbn,\"Figs/cough_dbn.png\", nodeColor=all_colors)"
   ]
  },
  {
   "cell_type": "code",
   "execution_count": 15,
   "id": "84c16dbe",
   "metadata": {},
   "outputs": [
    {
     "data": {
      "text/html": [
       "<table style=\"border:1px solid black;\"><tr><th colspan='3'></th>\n",
       "      <th colspan='2' style='border:1px solid black;color:black;background-color:#808080;'><center>Cough.1</center>\n",
       "      </th></tr><tr><th style='border:1px solid black;color:black;background-color:#808080'><center>Cough.0</center></th><th style='border:1px solid black;color:black;background-color:#808080'><center>Cold.1</center></th><th style='border:1px solid black;color:black;background-color:#808080'><center>LungDisease.1</center></th><th style='border:1px solid black;border-bottom-style: double;color:black;background-color:#BBBBBB'>\n",
       "      <center>0</center></th><th style='border:1px solid black;border-bottom-style: double;color:black;background-color:#BBBBBB'>\n",
       "      <center>1</center></th></tr><tr><th style='border:1px solid black;color:black;background-color:#BBBBBB;' rowspan = '4'>\n",
       "            <center>0</center></th><th style='border:1px solid black;color:black;background-color:#BBBBBB;' rowspan = '2'>\n",
       "            <center>0</center></th><th style='border:1px solid black;color:black;background-color:#BBBBBB'><center>0</center></th><td style='color:black;background-color:#a2db64;text-align:right;'>0.7188</td><td style='color:black;background-color:#dba264;text-align:right;'>0.2812</td></tr><tr><th style='border:1px solid black;color:black;background-color:#BBBBBB'><center>1</center></th><td style='color:black;background-color:#aad364;text-align:right;'>0.6592</td><td style='color:black;background-color:#d3aa64;text-align:right;'>0.3408</td></tr><tr><th style='border:1px solid black;color:black;background-color:#BBBBBB;' rowspan = '2'>\n",
       "            <center>1</center></th><th style='border:1px solid black;color:black;background-color:#BBBBBB'><center>0</center></th><td style='color:black;background-color:#dca164;text-align:right;'>0.2670</td><td style='color:black;background-color:#a1dc64;text-align:right;'>0.7330</td></tr><tr><th style='border:1px solid black;color:black;background-color:#BBBBBB'><center>1</center></th><td style='color:black;background-color:#abd264;text-align:right;'>0.6537</td><td style='color:black;background-color:#d2ab64;text-align:right;'>0.3463</td></tr><tr><th style='border:1px solid black;color:black;background-color:#BBBBBB;' rowspan = '4'>\n",
       "            <center>1</center></th><th style='border:1px solid black;color:black;background-color:#BBBBBB;' rowspan = '2'>\n",
       "            <center>0</center></th><th style='border:1px solid black;color:black;background-color:#BBBBBB'><center>0</center></th><td style='color:black;background-color:#b4c964;text-align:right;'>0.5810</td><td style='color:black;background-color:#c9b464;text-align:right;'>0.4190</td></tr><tr><th style='border:1px solid black;color:black;background-color:#BBBBBB'><center>1</center></th><td style='color:black;background-color:#d2ab64;text-align:right;'>0.3475</td><td style='color:black;background-color:#abd264;text-align:right;'>0.6525</td></tr><tr><th style='border:1px solid black;color:black;background-color:#BBBBBB;' rowspan = '2'>\n",
       "            <center>1</center></th><th style='border:1px solid black;color:black;background-color:#BBBBBB'><center>0</center></th><td style='color:black;background-color:#c2bb64;text-align:right;'>0.4757</td><td style='color:black;background-color:#bbc264;text-align:right;'>0.5243</td></tr><tr><th style='border:1px solid black;color:black;background-color:#BBBBBB'><center>1</center></th><td style='color:black;background-color:#bac364;text-align:right;'>0.5320</td><td style='color:black;background-color:#c3ba64;text-align:right;'>0.4680</td></tr></table>"
      ],
      "text/plain": [
       "<IPython.core.display.HTML object>"
      ]
     },
     "metadata": {},
     "output_type": "display_data"
    }
   ],
   "source": [
    "gnb.show(dbn.cpt(\"Cough.1\"))"
   ]
  },
  {
   "cell_type": "markdown",
   "id": "4bf29878",
   "metadata": {},
   "source": [
    "# DAG"
   ]
  },
  {
   "cell_type": "code",
   "execution_count": 3,
   "id": "78c05d5e",
   "metadata": {},
   "outputs": [
    {
     "ename": "InvalidDirectedCycle",
     "evalue": "[pyAgrum] Directed cycle detected: Add a directed cycle in a dag !",
     "output_type": "error",
     "traceback": [
      "\u001b[1;31m---------------------------------------------------------------------------\u001b[0m",
      "\u001b[1;31mInvalidDirectedCycle\u001b[0m                      Traceback (most recent call last)",
      "Cell \u001b[1;32mIn[3], line 1\u001b[0m\n\u001b[1;32m----> 1\u001b[0m bn \u001b[38;5;241m=\u001b[39m \u001b[43mgum\u001b[49m\u001b[38;5;241;43m.\u001b[39;49m\u001b[43mfastBN\u001b[49m\u001b[43m(\u001b[49m\u001b[38;5;124;43m\"\u001b[39;49m\u001b[38;5;124;43me_1->e_2->e_1\u001b[39;49m\u001b[38;5;124;43m\"\u001b[39;49m\u001b[43m)\u001b[49m\n",
      "File \u001b[1;32m~\\anaconda3\\envs\\thesis\\lib\\site-packages\\pyAgrum\\__init__.py:456\u001b[0m, in \u001b[0;36mfastBN\u001b[1;34m(structure, domain_size)\u001b[0m\n\u001b[0;32m    433\u001b[0m \u001b[38;5;28;01mdef\u001b[39;00m \u001b[38;5;21mfastBN\u001b[39m(structure, domain_size\u001b[38;5;241m=\u001b[39m\u001b[38;5;241m2\u001b[39m):\n\u001b[0;32m    434\u001b[0m   \u001b[38;5;124;03m\"\"\"\u001b[39;00m\n\u001b[0;32m    435\u001b[0m \u001b[38;5;124;03m  Create a Bayesian network with a dot-like syntax which specifies:\u001b[39;00m\n\u001b[0;32m    436\u001b[0m \u001b[38;5;124;03m      - the structure 'a->b->c;b->d<-e;',\u001b[39;00m\n\u001b[1;32m   (...)\u001b[0m\n\u001b[0;32m    454\u001b[0m \u001b[38;5;124;03m          the resulting bayesian network\u001b[39;00m\n\u001b[0;32m    455\u001b[0m \u001b[38;5;124;03m  \"\"\"\u001b[39;00m\n\u001b[1;32m--> 456\u001b[0m   \u001b[38;5;28;01mreturn\u001b[39;00m \u001b[43mBayesNet\u001b[49m\u001b[38;5;241;43m.\u001b[39;49m\u001b[43mfastPrototype\u001b[49m\u001b[43m(\u001b[49m\u001b[43mstructure\u001b[49m\u001b[43m,\u001b[49m\u001b[43m \u001b[49m\u001b[43mdomain_size\u001b[49m\u001b[43m)\u001b[49m\n",
      "File \u001b[1;32m~\\anaconda3\\envs\\thesis\\lib\\site-packages\\pyAgrum\\pyAgrum.py:10206\u001b[0m, in \u001b[0;36mBayesNet.fastPrototype\u001b[1;34m(dotlike, domainSize)\u001b[0m\n\u001b[0;32m  10166\u001b[0m \u001b[38;5;129m@staticmethod\u001b[39m\n\u001b[0;32m  10167\u001b[0m \u001b[38;5;28;01mdef\u001b[39;00m \u001b[38;5;21mfastPrototype\u001b[39m(dotlike: \u001b[38;5;28mstr\u001b[39m, domainSize: \u001b[38;5;28mint\u001b[39m\u001b[38;5;241m=\u001b[39m\u001b[38;5;241m2\u001b[39m) \u001b[38;5;241m-\u001b[39m\u001b[38;5;241m>\u001b[39m \u001b[38;5;124m\"\u001b[39m\u001b[38;5;124mpyAgrum.BayesNet\u001b[39m\u001b[38;5;124m\"\u001b[39m:\n\u001b[0;32m  10168\u001b[0m     \u001b[38;5;124mr\u001b[39m\u001b[38;5;124;03m\"\"\"\u001b[39;00m\n\u001b[0;32m  10169\u001b[0m \n\u001b[0;32m  10170\u001b[0m \u001b[38;5;124;03m    Create a Bayesian network with a dot-like syntax which specifies:\u001b[39;00m\n\u001b[1;32m   (...)\u001b[0m\n\u001b[0;32m  10204\u001b[0m \n\u001b[0;32m  10205\u001b[0m \u001b[38;5;124;03m    \"\"\"\u001b[39;00m\n\u001b[1;32m> 10206\u001b[0m     \u001b[38;5;28;01mreturn\u001b[39;00m \u001b[43m_pyAgrum\u001b[49m\u001b[38;5;241;43m.\u001b[39;49m\u001b[43mBayesNet_fastPrototype\u001b[49m\u001b[43m(\u001b[49m\u001b[43mdotlike\u001b[49m\u001b[43m,\u001b[49m\u001b[43m \u001b[49m\u001b[43mdomainSize\u001b[49m\u001b[43m)\u001b[49m\n",
      "\u001b[1;31mInvalidDirectedCycle\u001b[0m: [pyAgrum] Directed cycle detected: Add a directed cycle in a dag !"
     ]
    }
   ],
   "source": [
    "bn = gum.fastBN(\"e_1->e_2->e_1\")\n",
    "\n",
    "bn.cpt(\"Smoking\")[:]=[0.6,0.4]\n",
    "bn.cpt(\"Cold\")[:]=[0.7,0.3]\n",
    "bn.cpt(\"LungDisease\")[{\"Smoking\":0}]=[0.9,0.1]\n",
    "bn.cpt(\"LungDisease\")[{\"Smoking\":1}]=[0.7,0.3]\n",
    "bn.cpt(\"Cough\")[{\"LungDisease\": 0, \"Cold\": 0}] = [0.9, 0.1]\n",
    "bn.cpt(\"Cough\")[{\"LungDisease\": 1, \"Cold\": 0}] = [0.8, 0.2]\n",
    "bn.cpt(\"Cough\")[{\"LungDisease\": 0, \"Cold\": 1}] = [0.7, 0.3]\n",
    "bn.cpt(\"Cough\")[{\"LungDisease\": 1, \"Cold\": 1}] = [0.3, 0.7]\n",
    "\n",
    "gnb.show(bn)\n",
    "image.export(bn,\"Figs/cyclic.pdf\", nodeColor=colors)"
   ]
  },
  {
   "cell_type": "code",
   "execution_count": 2,
   "id": "2c02f630",
   "metadata": {},
   "outputs": [
    {
     "data": {
      "image/svg+xml": [
       "<svg xmlns=\"http://www.w3.org/2000/svg\" xmlns:xlink=\"http://www.w3.org/1999/xlink\" width=\"164pt\" height=\"116pt\" viewBox=\"0.00 0.00 163.89 116.00\">\n",
       "<g id=\"graph0\" class=\"graph\" transform=\"scale(1 1) rotate(0) translate(4 112)\">\n",
       "<title>G</title>\n",
       "<!-- Cold -->\n",
       "<g id=\"node1\" class=\"node\">\n",
       "<title>Cold</title>\n",
       "<g id=\"a_node1\"><a xlink:title=\"(0) Cold\">\n",
       "<ellipse fill=\"#404040\" stroke=\"black\" cx=\"77.45\" cy=\"-90\" rx=\"27.9\" ry=\"18\"/>\n",
       "<text text-anchor=\"middle\" x=\"77.45\" y=\"-86.3\" font-family=\"Times New Roman,serif\" font-size=\"14.00\" fill=\"white\">Cold</text>\n",
       "</a>\n",
       "</g>\n",
       "</g>\n",
       "<!-- Cough -->\n",
       "<g id=\"node2\" class=\"node\">\n",
       "<title>Cough</title>\n",
       "<g id=\"a_node2\"><a xlink:title=\"(2) Cough\">\n",
       "<ellipse fill=\"#404040\" stroke=\"black\" cx=\"34.45\" cy=\"-18\" rx=\"34.39\" ry=\"18\"/>\n",
       "<text text-anchor=\"middle\" x=\"34.45\" y=\"-14.3\" font-family=\"Times New Roman,serif\" font-size=\"14.00\" fill=\"white\">Cough</text>\n",
       "</a>\n",
       "</g>\n",
       "</g>\n",
       "<!-- Cold&#45;&gt;Cough -->\n",
       "<g id=\"edge2\" class=\"edge\">\n",
       "<title>Cold-&gt;Cough</title>\n",
       "<g id=\"a_edge2\"><a xlink:title=\"0 → 2\">\n",
       "<path fill=\"none\" stroke=\"#4a4a4a\" d=\"M67.69,-73.12C62.38,-64.47 55.69,-53.58 49.7,-43.83\"/>\n",
       "<polygon fill=\"#4a4a4a\" stroke=\"#4a4a4a\" points=\"52.68,-42 44.46,-35.31 46.72,-45.66 52.68,-42\"/>\n",
       "</a>\n",
       "</g>\n",
       "</g>\n",
       "<!-- Sniffle -->\n",
       "<g id=\"node3\" class=\"node\">\n",
       "<title>Sniffle</title>\n",
       "<g id=\"a_node3\"><a xlink:title=\"(1) Sniffle\">\n",
       "<ellipse fill=\"#404040\" stroke=\"black\" cx=\"121.45\" cy=\"-18\" rx=\"34.39\" ry=\"18\"/>\n",
       "<text text-anchor=\"middle\" x=\"121.45\" y=\"-14.3\" font-family=\"Times New Roman,serif\" font-size=\"14.00\" fill=\"white\">Sniffle</text>\n",
       "</a>\n",
       "</g>\n",
       "</g>\n",
       "<!-- Cold&#45;&gt;Sniffle -->\n",
       "<g id=\"edge1\" class=\"edge\">\n",
       "<title>Cold-&gt;Sniffle</title>\n",
       "<g id=\"a_edge1\"><a xlink:title=\"0 → 1\">\n",
       "<path fill=\"none\" stroke=\"#4a4a4a\" d=\"M87.43,-73.12C92.87,-64.47 99.71,-53.58 105.84,-43.83\"/>\n",
       "<polygon fill=\"#4a4a4a\" stroke=\"#4a4a4a\" points=\"108.84,-45.64 111.2,-35.31 102.91,-41.91 108.84,-45.64\"/>\n",
       "</a>\n",
       "</g>\n",
       "</g>\n",
       "</g>\n",
       "</svg>"
      ],
      "text/plain": [
       "<IPython.core.display.SVG object>"
      ]
     },
     "metadata": {},
     "output_type": "display_data"
    }
   ],
   "source": [
    "bn = gum.fastBN(\"Cold->Sniffle;Cold->Cough\")\n",
    "\n",
    "bn.cpt(\"Cold\")[:]=[0.7,0.3]\n",
    "bn.cpt(\"Sniffle\")[{\"Cold\":0}]=[0.6,0.4]\n",
    "bn.cpt(\"Sniffle\")[{\"Cold\":1}]=[0.2,0.8]\n",
    "bn.cpt(\"Cough\")[{\"Cold\":0}]=[0.7,0.3]\n",
    "bn.cpt(\"Cough\")[{\"Cold\":1}]=[0.4,0.6]\n",
    "\n",
    "gnb.show(bn)"
   ]
  },
  {
   "cell_type": "code",
   "execution_count": 5,
   "id": "226afad1",
   "metadata": {},
   "outputs": [
    {
     "data": {
      "text/html": [
       "<table style=\"border:1px solid black;\"><tr><th colspan='2'></th>\n",
       "      <th colspan='2' style='border:1px solid black;color:black;background-color:#808080;'><center>Cold</center>\n",
       "      </th></tr><tr><th style='border:1px solid black;color:black;background-color:#808080'><center>Sniffle</center></th><th style='border:1px solid black;color:black;background-color:#808080'><center>Cough</center></th><th style='border:1px solid black;border-bottom-style: double;color:black;background-color:#BBBBBB'>\n",
       "      <center>0</center></th><th style='border:1px solid black;border-bottom-style: double;color:black;background-color:#BBBBBB'>\n",
       "      <center>1</center></th></tr><tr><th style='border:1px solid black;color:black;background-color:#BBBBBB;' rowspan = '2'>\n",
       "            <center>0</center></th><th style='border:1px solid black;color:black;background-color:#BBBBBB'><center>0</center></th><td style='color:black;background-color:#d9a464;text-align:right;'>0.2940</td><td style='color:black;background-color:#fb8264;text-align:right;'>0.0240</td></tr><tr><th style='border:1px solid black;color:black;background-color:#BBBBBB'><center>1</center></th><td style='color:black;background-color:#ee8f64;text-align:right;'>0.1260</td><td style='color:black;background-color:#fa8364;text-align:right;'>0.0360</td></tr><tr><th style='border:1px solid black;color:black;background-color:#BBBBBB;' rowspan = '2'>\n",
       "            <center>1</center></th><th style='border:1px solid black;color:black;background-color:#BBBBBB'><center>0</center></th><td style='color:black;background-color:#e59864;text-align:right;'>0.1960</td><td style='color:black;background-color:#f28b64;text-align:right;'>0.0960</td></tr><tr><th style='border:1px solid black;color:black;background-color:#BBBBBB'><center>1</center></th><td style='color:black;background-color:#f48964;text-align:right;'>0.0840</td><td style='color:black;background-color:#ec9164;text-align:right;'>0.1440</td></tr></table>"
      ],
      "text/plain": [
       "<IPython.core.display.HTML object>"
      ]
     },
     "metadata": {},
     "output_type": "display_data"
    }
   ],
   "source": [
    "ie=gum.LazyPropagation(bn)\n",
    "ie.addJointTarget({\"Cold\",\"Cough\",\"Sniffle\"})\n",
    "ie.makeInference()\n",
    "gnb.show(ie.jointPosterior({\"Cold\",\"Cough\",\"Sniffle\"}))"
   ]
  }
 ],
 "metadata": {
  "kernelspec": {
   "display_name": "Python 3 (ipykernel)",
   "language": "python",
   "name": "python3"
  },
  "language_info": {
   "codemirror_mode": {
    "name": "ipython",
    "version": 3
   },
   "file_extension": ".py",
   "mimetype": "text/x-python",
   "name": "python",
   "nbconvert_exporter": "python",
   "pygments_lexer": "ipython3",
   "version": "3.9.16"
  }
 },
 "nbformat": 4,
 "nbformat_minor": 5
}
