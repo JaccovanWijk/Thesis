{
 "cells": [
  {
   "cell_type": "code",
   "execution_count": 1,
   "id": "fa7a9c04",
   "metadata": {},
   "outputs": [],
   "source": [
    "import pyAgrum as gum\n",
    "import pyAgrum.lib.notebook as gnb\n",
    "import pyAgrum.lib.bn_vs_bn as bnvsbn\n",
    "import networkx as nx\n",
    "import pandas as pd\n",
    "import numpy as np"
   ]
  },
  {
   "cell_type": "code",
   "execution_count": 2,
   "id": "dd6d6f91",
   "metadata": {},
   "outputs": [
    {
     "data": {
      "image/svg+xml": [
       "<svg xmlns=\"http://www.w3.org/2000/svg\" xmlns:xlink=\"http://www.w3.org/1999/xlink\" width=\"215pt\" height=\"360pt\" viewBox=\"0.00 0.00 214.81 360.00\">\n",
       "<g id=\"graph0\" class=\"graph\" transform=\"scale(0.89 0.89) rotate(0) translate(4 400)\">\n",
       "<title>G</title>\n",
       "<!-- b -->\n",
       "<g id=\"node1\" class=\"node\">\n",
       "<title>b</title>\n",
       "<g id=\"a_node1\"><a xlink:title=\"(3) b\">\n",
       "<ellipse fill=\"#404040\" stroke=\"black\" cx=\"69.91\" cy=\"-306\" rx=\"27\" ry=\"18\"/>\n",
       "<text text-anchor=\"middle\" x=\"69.91\" y=\"-302.3\" font-family=\"Times New Roman,serif\" font-size=\"14.00\" fill=\"white\">b</text>\n",
       "</a>\n",
       "</g>\n",
       "</g>\n",
       "<!-- h -->\n",
       "<g id=\"node4\" class=\"node\">\n",
       "<title>h</title>\n",
       "<g id=\"a_node4\"><a xlink:title=\"(0) h\">\n",
       "<ellipse fill=\"#404040\" stroke=\"black\" cx=\"39.91\" cy=\"-18\" rx=\"27\" ry=\"18\"/>\n",
       "<text text-anchor=\"middle\" x=\"39.91\" y=\"-14.3\" font-family=\"Times New Roman,serif\" font-size=\"14.00\" fill=\"white\">h</text>\n",
       "</a>\n",
       "</g>\n",
       "</g>\n",
       "<!-- b&#45;&gt;h -->\n",
       "<g id=\"edge8\" class=\"edge\">\n",
       "<title>b-&gt;h</title>\n",
       "<g id=\"a_edge8\"><a xlink:title=\"3 → 0\">\n",
       "<path fill=\"none\" stroke=\"#4a4a4a\" d=\"M58.45,-289.45C42.53,-266.76 14.47,-222.64 3.91,-180 -7.89,-132.38 12.21,-76.41 26.81,-44.58\"/>\n",
       "<polygon fill=\"#4a4a4a\" stroke=\"#4a4a4a\" points=\"29.99,-46.05 31.12,-35.51 23.67,-43.04 29.99,-46.05\"/>\n",
       "</a>\n",
       "</g>\n",
       "</g>\n",
       "<!-- c -->\n",
       "<g id=\"node5\" class=\"node\">\n",
       "<title>c</title>\n",
       "<g id=\"a_node5\"><a xlink:title=\"(2) c\">\n",
       "<ellipse fill=\"#404040\" stroke=\"black\" cx=\"111.91\" cy=\"-234\" rx=\"27\" ry=\"18\"/>\n",
       "<text text-anchor=\"middle\" x=\"111.91\" y=\"-230.3\" font-family=\"Times New Roman,serif\" font-size=\"14.00\" fill=\"white\">c</text>\n",
       "</a>\n",
       "</g>\n",
       "</g>\n",
       "<!-- b&#45;&gt;c -->\n",
       "<g id=\"edge13\" class=\"edge\">\n",
       "<title>b-&gt;c</title>\n",
       "<g id=\"a_edge13\"><a xlink:title=\"3 → 2\">\n",
       "<path fill=\"none\" stroke=\"#4a4a4a\" d=\"M79.44,-289.12C84.57,-280.56 91.03,-269.8 96.83,-260.13\"/>\n",
       "<polygon fill=\"#4a4a4a\" stroke=\"#4a4a4a\" points=\"99.98,-261.68 102.12,-251.31 93.98,-258.08 99.98,-261.68\"/>\n",
       "</a>\n",
       "</g>\n",
       "</g>\n",
       "<!-- f -->\n",
       "<g id=\"node7\" class=\"node\">\n",
       "<title>f</title>\n",
       "<g id=\"a_node7\"><a xlink:title=\"(1) f\">\n",
       "<ellipse fill=\"#404040\" stroke=\"black\" cx=\"39.91\" cy=\"-162\" rx=\"27\" ry=\"18\"/>\n",
       "<text text-anchor=\"middle\" x=\"39.91\" y=\"-158.3\" font-family=\"Times New Roman,serif\" font-size=\"14.00\" fill=\"white\">f</text>\n",
       "</a>\n",
       "</g>\n",
       "</g>\n",
       "<!-- b&#45;&gt;f -->\n",
       "<g id=\"edge4\" class=\"edge\">\n",
       "<title>b-&gt;f</title>\n",
       "<g id=\"a_edge4\"><a xlink:title=\"3 → 1\">\n",
       "<path fill=\"none\" stroke=\"#4a4a4a\" d=\"M66.35,-288.15C61.23,-263.94 51.75,-219.05 45.64,-190.13\"/>\n",
       "<polygon fill=\"#4a4a4a\" stroke=\"#4a4a4a\" points=\"49.05,-189.33 43.55,-180.27 42.2,-190.78 49.05,-189.33\"/>\n",
       "</a>\n",
       "</g>\n",
       "</g>\n",
       "<!-- e -->\n",
       "<g id=\"node2\" class=\"node\">\n",
       "<title>e</title>\n",
       "<g id=\"a_node2\"><a xlink:title=\"(6) e\">\n",
       "<ellipse fill=\"#404040\" stroke=\"black\" cx=\"183.91\" cy=\"-162\" rx=\"27\" ry=\"18\"/>\n",
       "<text text-anchor=\"middle\" x=\"183.91\" y=\"-158.3\" font-family=\"Times New Roman,serif\" font-size=\"14.00\" fill=\"white\">e</text>\n",
       "</a>\n",
       "</g>\n",
       "</g>\n",
       "<!-- g -->\n",
       "<g id=\"node3\" class=\"node\">\n",
       "<title>g</title>\n",
       "<g id=\"a_node3\"><a xlink:title=\"(4) g\">\n",
       "<ellipse fill=\"#404040\" stroke=\"black\" cx=\"138.91\" cy=\"-90\" rx=\"27\" ry=\"18\"/>\n",
       "<text text-anchor=\"middle\" x=\"138.91\" y=\"-86.3\" font-family=\"Times New Roman,serif\" font-size=\"14.00\" fill=\"white\">g</text>\n",
       "</a>\n",
       "</g>\n",
       "</g>\n",
       "<!-- e&#45;&gt;g -->\n",
       "<g id=\"edge6\" class=\"edge\">\n",
       "<title>e-&gt;g</title>\n",
       "<g id=\"a_edge6\"><a xlink:title=\"6 → 4\">\n",
       "<path fill=\"none\" stroke=\"#4a4a4a\" d=\"M173.69,-145.12C168.06,-136.34 160.93,-125.26 154.6,-115.42\"/>\n",
       "<polygon fill=\"#4a4a4a\" stroke=\"#4a4a4a\" points=\"157.43,-113.34 149.08,-106.82 151.54,-117.13 157.43,-113.34\"/>\n",
       "</a>\n",
       "</g>\n",
       "</g>\n",
       "<!-- g&#45;&gt;h -->\n",
       "<g id=\"edge1\" class=\"edge\">\n",
       "<title>g-&gt;h</title>\n",
       "<g id=\"a_edge1\"><a xlink:title=\"4 → 0\">\n",
       "<path fill=\"none\" stroke=\"#4a4a4a\" d=\"M120.75,-76.16C105.54,-65.41 83.62,-49.91 66.44,-37.76\"/>\n",
       "<polygon fill=\"#4a4a4a\" stroke=\"#4a4a4a\" points=\"68.13,-34.67 57.95,-31.76 64.09,-40.39 68.13,-34.67\"/>\n",
       "</a>\n",
       "</g>\n",
       "</g>\n",
       "<!-- c&#45;&gt;e -->\n",
       "<g id=\"edge10\" class=\"edge\">\n",
       "<title>c-&gt;e</title>\n",
       "<g id=\"a_edge10\"><a xlink:title=\"2 → 6\">\n",
       "<path fill=\"none\" stroke=\"#4a4a4a\" d=\"M126.48,-218.83C136.66,-208.94 150.43,-195.55 161.94,-184.36\"/>\n",
       "<polygon fill=\"#4a4a4a\" stroke=\"#4a4a4a\" points=\"164.38,-186.87 169.11,-177.38 159.5,-181.85 164.38,-186.87\"/>\n",
       "</a>\n",
       "</g>\n",
       "</g>\n",
       "<!-- c&#45;&gt;f -->\n",
       "<g id=\"edge2\" class=\"edge\">\n",
       "<title>c-&gt;f</title>\n",
       "<g id=\"a_edge2\"><a xlink:title=\"2 → 1\">\n",
       "<path fill=\"none\" stroke=\"#4a4a4a\" d=\"M97.34,-218.83C87.16,-208.94 73.38,-195.55 61.87,-184.36\"/>\n",
       "<polygon fill=\"#4a4a4a\" stroke=\"#4a4a4a\" points=\"64.31,-181.85 54.7,-177.38 59.43,-186.87 64.31,-181.85\"/>\n",
       "</a>\n",
       "</g>\n",
       "</g>\n",
       "<!-- d -->\n",
       "<g id=\"node8\" class=\"node\">\n",
       "<title>d</title>\n",
       "<g id=\"a_node8\"><a xlink:title=\"(7) d\">\n",
       "<ellipse fill=\"#404040\" stroke=\"black\" cx=\"111.91\" cy=\"-162\" rx=\"27\" ry=\"18\"/>\n",
       "<text text-anchor=\"middle\" x=\"111.91\" y=\"-158.3\" font-family=\"Times New Roman,serif\" font-size=\"14.00\" fill=\"white\">d</text>\n",
       "</a>\n",
       "</g>\n",
       "</g>\n",
       "<!-- c&#45;&gt;d -->\n",
       "<g id=\"edge3\" class=\"edge\">\n",
       "<title>c-&gt;d</title>\n",
       "<g id=\"a_edge3\"><a xlink:title=\"2 → 7\">\n",
       "<path fill=\"none\" stroke=\"#4a4a4a\" d=\"M111.91,-215.7C111.91,-207.98 111.91,-198.71 111.91,-190.11\"/>\n",
       "<polygon fill=\"#4a4a4a\" stroke=\"#4a4a4a\" points=\"115.41,-190.1 111.91,-180.1 108.41,-190.1 115.41,-190.1\"/>\n",
       "</a>\n",
       "</g>\n",
       "</g>\n",
       "<!-- a -->\n",
       "<g id=\"node6\" class=\"node\">\n",
       "<title>a</title>\n",
       "<g id=\"a_node6\"><a xlink:title=\"(5) a\">\n",
       "<ellipse fill=\"#404040\" stroke=\"black\" cx=\"151.91\" cy=\"-378\" rx=\"27\" ry=\"18\"/>\n",
       "<text text-anchor=\"middle\" x=\"151.91\" y=\"-374.3\" font-family=\"Times New Roman,serif\" font-size=\"14.00\" fill=\"white\">a</text>\n",
       "</a>\n",
       "</g>\n",
       "</g>\n",
       "<!-- a&#45;&gt;b -->\n",
       "<g id=\"edge12\" class=\"edge\">\n",
       "<title>a-&gt;b</title>\n",
       "<g id=\"a_edge12\"><a xlink:title=\"5 → 3\">\n",
       "<path fill=\"none\" stroke=\"#4a4a4a\" d=\"M135.71,-363.17C123.72,-352.94 107.21,-338.85 93.73,-327.34\"/>\n",
       "<polygon fill=\"#4a4a4a\" stroke=\"#4a4a4a\" points=\"95.67,-324.39 85.79,-320.56 91.13,-329.72 95.67,-324.39\"/>\n",
       "</a>\n",
       "</g>\n",
       "</g>\n",
       "<!-- a&#45;&gt;e -->\n",
       "<g id=\"edge11\" class=\"edge\">\n",
       "<title>a-&gt;e</title>\n",
       "<g id=\"a_edge11\"><a xlink:title=\"5 → 6\">\n",
       "<path fill=\"none\" stroke=\"#4a4a4a\" d=\"M154.47,-359.85C160.02,-322.74 173.18,-234.75 179.86,-190.05\"/>\n",
       "<polygon fill=\"#4a4a4a\" stroke=\"#4a4a4a\" points=\"183.36,-190.34 181.37,-179.94 176.43,-189.31 183.36,-190.34\"/>\n",
       "</a>\n",
       "</g>\n",
       "</g>\n",
       "<!-- a&#45;&gt;g -->\n",
       "<g id=\"edge5\" class=\"edge\">\n",
       "<title>a-&gt;g</title>\n",
       "<g id=\"a_edge5\"><a xlink:title=\"5 → 4\">\n",
       "<path fill=\"none\" stroke=\"#4a4a4a\" d=\"M164.03,-361.71C193,-323.18 260.89,-219.8 219.91,-144 209.72,-125.17 189.61,-111.95 171.98,-103.43\"/>\n",
       "<polygon fill=\"#4a4a4a\" stroke=\"#4a4a4a\" points=\"173.07,-100.08 162.52,-99.17 170.2,-106.46 173.07,-100.08\"/>\n",
       "</a>\n",
       "</g>\n",
       "</g>\n",
       "<!-- a&#45;&gt;c -->\n",
       "<g id=\"edge14\" class=\"edge\">\n",
       "<title>a-&gt;c</title>\n",
       "<g id=\"a_edge14\"><a xlink:title=\"5 → 2\">\n",
       "<path fill=\"none\" stroke=\"#4a4a4a\" d=\"M147.16,-360.15C140.3,-335.81 127.56,-290.57 119.42,-261.67\"/>\n",
       "<polygon fill=\"#4a4a4a\" stroke=\"#4a4a4a\" points=\"122.73,-260.5 116.65,-251.82 115.99,-262.4 122.73,-260.5\"/>\n",
       "</a>\n",
       "</g>\n",
       "</g>\n",
       "<!-- f&#45;&gt;g -->\n",
       "<g id=\"edge7\" class=\"edge\">\n",
       "<title>f-&gt;g</title>\n",
       "<g id=\"a_edge7\"><a xlink:title=\"1 → 4\">\n",
       "<path fill=\"none\" stroke=\"#4a4a4a\" d=\"M58.06,-148.16C73.27,-137.41 95.19,-121.91 112.37,-109.76\"/>\n",
       "<polygon fill=\"#4a4a4a\" stroke=\"#4a4a4a\" points=\"114.72,-112.39 120.86,-103.76 110.68,-106.67 114.72,-112.39\"/>\n",
       "</a>\n",
       "</g>\n",
       "</g>\n",
       "<!-- f&#45;&gt;h -->\n",
       "<g id=\"edge9\" class=\"edge\">\n",
       "<title>f-&gt;h</title>\n",
       "<g id=\"a_edge9\"><a xlink:title=\"1 → 0\">\n",
       "<path fill=\"none\" stroke=\"#4a4a4a\" d=\"M39.91,-143.87C39.91,-119.67 39.91,-75.21 39.91,-46.39\"/>\n",
       "<polygon fill=\"#4a4a4a\" stroke=\"#4a4a4a\" points=\"43.41,-46.19 39.91,-36.19 36.41,-46.19 43.41,-46.19\"/>\n",
       "</a>\n",
       "</g>\n",
       "</g>\n",
       "</g>\n",
       "</svg>"
      ],
      "text/plain": [
       "<IPython.core.display.SVG object>"
      ]
     },
     "metadata": {},
     "output_type": "display_data"
    }
   ],
   "source": [
    "bn = gum.randomBN(n=8, names='abcdefgh', ratio_arc=2)\n",
    "gnb.show(bn)"
   ]
  },
  {
   "cell_type": "code",
   "execution_count": 34,
   "id": "b654318c",
   "metadata": {},
   "outputs": [
    {
     "data": {
      "text/plain": [
       "0.35180121527777775"
      ]
     },
     "execution_count": 34,
     "metadata": {},
     "output_type": "execute_result"
    }
   ],
   "source": [
    "def get_mean_constraint(bn):\n",
    "    G = nx.DiGraph()\n",
    "    G.add_nodes_from(bn.nodes())\n",
    "    G.add_edges_from(bn.arcs())\n",
    "    constraints = np.nan_to_num([v for n, v in dict(nx.constraint(G)).items()])\n",
    "    return np.mean(constraints)\n",
    "\n",
    "get_mean_constraint(bn)"
   ]
  },
  {
   "cell_type": "code",
   "execution_count": 4,
   "id": "5299584b",
   "metadata": {},
   "outputs": [
    {
     "data": {
      "text/plain": [
       "0.49256944444444445"
      ]
     },
     "execution_count": 4,
     "metadata": {},
     "output_type": "execute_result"
    }
   ],
   "source": [
    "def get_mean_effeciency(bn):\n",
    "    G = nx.DiGraph()\n",
    "    G.add_nodes_from(bn.nodes())\n",
    "    G.add_edges_from(bn.arcs())\n",
    "    \n",
    "    esize = nx.effective_size(G)\n",
    "    effeciencies = np.nan_to_num([v / G.degree(n) for n, v in esize.items()])\n",
    "    return np.mean(effeciencies)\n",
    "get_mean_effeciency(bn)"
   ]
  },
  {
   "cell_type": "code",
   "execution_count": 11,
   "id": "9fbf7fe3",
   "metadata": {},
   "outputs": [
    {
     "data": {
      "text/plain": [
       "204.0"
      ]
     },
     "execution_count": 11,
     "metadata": {},
     "output_type": "execute_result"
    }
   ],
   "source": [
    "def get_s_metric(bn):\n",
    "    G = nx.DiGraph()\n",
    "    G.add_nodes_from(bn.nodes())\n",
    "    G.add_edges_from(bn.arcs())\n",
    "    \n",
    "    return nx.s_metric(G, normalized=False)\n",
    "get_s_metric(bn)"
   ]
  },
  {
   "cell_type": "code",
   "execution_count": 14,
   "id": "7ae3922d",
   "metadata": {},
   "outputs": [
    {
     "data": {
      "text/plain": [
       "0.29735781250000004"
      ]
     },
     "execution_count": 14,
     "metadata": {},
     "output_type": "execute_result"
    }
   ],
   "source": [
    "def get_mean_similarity(bn):\n",
    "    G = nx.DiGraph()\n",
    "    G.add_nodes_from(bn.nodes())\n",
    "    G.add_edges_from(bn.arcs())\n",
    "    return pd.DataFrame(nx.simrank_similarity(G)).mean().mean()\n",
    "\n",
    "get_mean_similarity(bn)"
   ]
  },
  {
   "cell_type": "code",
   "execution_count": 20,
   "id": "676c4714",
   "metadata": {},
   "outputs": [
    {
     "data": {
      "text/plain": [
       "5.5"
      ]
     },
     "execution_count": 20,
     "metadata": {},
     "output_type": "execute_result"
    }
   ],
   "source": [
    "def get_mean_nr_similarities(bn):\n",
    "    G = nx.DiGraph()\n",
    "    G.add_nodes_from(bn.nodes())\n",
    "    G.add_edges_from(bn.arcs())\n",
    "    return pd.DataFrame(nx.simrank_similarity(G)).astype(bool).sum(axis=0).mean()\n",
    "\n",
    "get_mean_nr_similarities(bn)"
   ]
  },
  {
   "cell_type": "code",
   "execution_count": 29,
   "id": "3c1943b2",
   "metadata": {},
   "outputs": [
    {
     "data": {
      "text/plain": [
       "1.75"
      ]
     },
     "execution_count": 29,
     "metadata": {},
     "output_type": "execute_result"
    }
   ],
   "source": [
    "def get_mean_degrees(bn):\n",
    "    G = nx.DiGraph()\n",
    "    G.add_nodes_from(bn.nodes())\n",
    "    G.add_edges_from(bn.arcs())\n",
    "    return np.mean([v for x,v in dict(G.out_degree()).items()])\n",
    "\n",
    "get_mean_degrees(bn)"
   ]
  },
  {
   "cell_type": "code",
   "execution_count": null,
   "id": "842ab061",
   "metadata": {},
   "outputs": [],
   "source": []
  }
 ],
 "metadata": {
  "kernelspec": {
   "display_name": "Python 3 (ipykernel)",
   "language": "python",
   "name": "python3"
  },
  "language_info": {
   "codemirror_mode": {
    "name": "ipython",
    "version": 3
   },
   "file_extension": ".py",
   "mimetype": "text/x-python",
   "name": "python",
   "nbconvert_exporter": "python",
   "pygments_lexer": "ipython3",
   "version": "3.9.16"
  }
 },
 "nbformat": 4,
 "nbformat_minor": 5
}
